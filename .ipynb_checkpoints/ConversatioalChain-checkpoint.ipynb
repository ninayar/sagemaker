{
 "cells": [
  {
   "cell_type": "code",
   "execution_count": 1,
   "id": "6b97dbbb",
   "metadata": {},
   "outputs": [
    {
     "name": "stdout",
     "output_type": "stream",
     "text": [
      "Looking in indexes: https://pypi.org/simple, https://pip.repos.neuron.amazonaws.com\n",
      "Requirement already satisfied: tiktoken in /home/ec2-user/anaconda3/envs/python3/lib/python3.10/site-packages (0.3.3)\n",
      "Requirement already satisfied: regex>=2022.1.18 in /home/ec2-user/anaconda3/envs/python3/lib/python3.10/site-packages (from tiktoken) (2022.10.31)\n",
      "Requirement already satisfied: requests>=2.26.0 in /home/ec2-user/anaconda3/envs/python3/lib/python3.10/site-packages (from tiktoken) (2.28.1)\n",
      "Requirement already satisfied: urllib3<1.27,>=1.21.1 in /home/ec2-user/anaconda3/envs/python3/lib/python3.10/site-packages (from requests>=2.26.0->tiktoken) (1.26.8)\n",
      "Requirement already satisfied: charset-normalizer<3,>=2 in /home/ec2-user/anaconda3/envs/python3/lib/python3.10/site-packages (from requests>=2.26.0->tiktoken) (2.1.1)\n",
      "Requirement already satisfied: idna<4,>=2.5 in /home/ec2-user/anaconda3/envs/python3/lib/python3.10/site-packages (from requests>=2.26.0->tiktoken) (3.4)\n",
      "Requirement already satisfied: certifi>=2017.4.17 in /home/ec2-user/anaconda3/envs/python3/lib/python3.10/site-packages (from requests>=2.26.0->tiktoken) (2022.12.7)\n",
      "Note: you may need to restart the kernel to use updated packages.\n"
     ]
    }
   ],
   "source": [
    "pip install tiktoken"
   ]
  },
  {
   "cell_type": "code",
   "execution_count": 2,
   "id": "53147b06",
   "metadata": {},
   "outputs": [],
   "source": [
    "import inspect\n",
    "\n",
    "from getpass import getpass\n",
    "from langchain import OpenAI\n",
    "from langchain.chains import LLMChain, ConversationChain\n",
    "from langchain.chains.conversation.memory import (ConversationBufferMemory, \n",
    "                                                  ConversationSummaryMemory, \n",
    "                                                  ConversationBufferWindowMemory,\n",
    "                                                  ConversationKGMemory)\n",
    "from langchain.callbacks import get_openai_callback\n",
    "import tiktoken\n",
    "\n",
    "# first initialize the large language model\n",
    "llm = OpenAI(\n",
    "\ttemperature=0,\n",
    "\topenai_api_key=\"<open-api-key>\",\n",
    "\tmodel_name=\"text-davinci-003\"\n",
    ")\n",
    "\n",
    "# now initialize the conversation chain\n",
    "conversation = ConversationChain(llm=llm)"
   ]
  },
  {
   "cell_type": "code",
   "execution_count": 3,
   "id": "c8e413b7",
   "metadata": {},
   "outputs": [
    {
     "name": "stdout",
     "output_type": "stream",
     "text": [
      "The following is a friendly conversation between a human and an AI. The AI is talkative and provides lots of specific details from its context. If the AI does not know the answer to a question, it truthfully says it does not know.\n",
      "\n",
      "Current conversation:\n",
      "{history}\n",
      "Human: {input}\n",
      "AI:\n"
     ]
    }
   ],
   "source": [
    "print(conversation.prompt.template)"
   ]
  },
  {
   "cell_type": "code",
   "execution_count": 4,
   "id": "8b7ce3df",
   "metadata": {},
   "outputs": [],
   "source": [
    "from langchain.chains.conversation.memory import ConversationBufferMemory\n",
    "\n",
    "conversation_buf = ConversationChain(\n",
    "    llm=llm,\n",
    "    memory=ConversationBufferMemory()\n",
    ")"
   ]
  },
  {
   "cell_type": "code",
   "execution_count": 5,
   "id": "1ca5efdc",
   "metadata": {},
   "outputs": [
    {
     "data": {
      "text/plain": [
       "{'input': 'Good morning AI!',\n",
       " 'history': '',\n",
       " 'response': \" Good morning! It's a beautiful day today, isn't it? How can I help you?\"}"
      ]
     },
     "execution_count": 5,
     "metadata": {},
     "output_type": "execute_result"
    }
   ],
   "source": [
    "conversation_buf(\"Good morning AI!\")"
   ]
  },
  {
   "cell_type": "code",
   "execution_count": 6,
   "id": "66c85fc6",
   "metadata": {},
   "outputs": [],
   "source": [
    "from langchain.callbacks import get_openai_callback\n",
    "\n",
    "def count_tokens(chain, query):\n",
    "    with get_openai_callback() as cb:\n",
    "        result = chain.run(query)\n",
    "        print(f'Spent a total of {cb.total_tokens} tokens')\n",
    "\n",
    "    return result"
   ]
  },
  {
   "cell_type": "code",
   "execution_count": 7,
   "id": "5472256b",
   "metadata": {},
   "outputs": [
    {
     "name": "stdout",
     "output_type": "stream",
     "text": [
      "Spent a total of 178 tokens\n"
     ]
    },
    {
     "data": {
      "text/plain": [
       "' Interesting! Large Language Models are a type of artificial intelligence that can process natural language and generate text. They can be used to generate text from a given context, or to answer questions about a given context. Integrating them with external knowledge can help them to better understand the context and generate more accurate results. Do you have any specific questions about this integration?'"
      ]
     },
     "execution_count": 7,
     "metadata": {},
     "output_type": "execute_result"
    }
   ],
   "source": [
    "count_tokens(\n",
    "    conversation_buf, \n",
    "    \"My interest here is to explore the potential of integrating Large Language Models with external knowledge\"\n",
    ")"
   ]
  },
  {
   "cell_type": "code",
   "execution_count": 8,
   "id": "8fb8cd79",
   "metadata": {},
   "outputs": [
    {
     "name": "stdout",
     "output_type": "stream",
     "text": [
      "Spent a total of 264 tokens\n"
     ]
    },
    {
     "data": {
      "text/plain": [
       "' There are many possibilities for integrating Large Language Models with external knowledge. For example, you could use external knowledge to provide additional context to the model, or to provide additional training data. You could also use external knowledge to help the model better understand the context of a given text, or to help it generate more accurate results.'"
      ]
     },
     "execution_count": 8,
     "metadata": {},
     "output_type": "execute_result"
    }
   ],
   "source": [
    "count_tokens(\n",
    "    conversation_buf,\n",
    "    \"I just want to analyze the different possibilities. What can you think of?\"\n",
    ")"
   ]
  },
  {
   "cell_type": "code",
   "execution_count": 9,
   "id": "786d6966",
   "metadata": {},
   "outputs": [
    {
     "name": "stdout",
     "output_type": "stream",
     "text": [
      "Spent a total of 344 tokens\n"
     ]
    },
    {
     "data": {
      "text/plain": [
       "'  Data sources that could be used to give context to the model include text corpora, images, audio, and video. Text corpora can provide additional context to the model by providing additional training data. Images, audio, and video can provide additional context by providing additional visual or auditory information.'"
      ]
     },
     "execution_count": 9,
     "metadata": {},
     "output_type": "execute_result"
    }
   ],
   "source": [
    "count_tokens(\n",
    "    conversation_buf, \n",
    "    \"Which data source types could be used to give context to the model?\"\n",
    ")"
   ]
  },
  {
   "cell_type": "code",
   "execution_count": 10,
   "id": "39eeb025",
   "metadata": {},
   "outputs": [
    {
     "name": "stdout",
     "output_type": "stream",
     "text": [
      "Spent a total of 372 tokens\n"
     ]
    },
    {
     "data": {
      "text/plain": [
       "' Your aim is to explore the potential of integrating Large Language Models with external knowledge.'"
      ]
     },
     "execution_count": 10,
     "metadata": {},
     "output_type": "execute_result"
    }
   ],
   "source": [
    "count_tokens(\n",
    "    conversation_buf, \n",
    "    \"What is my aim again?\"\n",
    ")"
   ]
  },
  {
   "cell_type": "code",
   "execution_count": 11,
   "id": "318ec928",
   "metadata": {},
   "outputs": [
    {
     "name": "stdout",
     "output_type": "stream",
     "text": [
      "Human: Good morning AI!\n",
      "AI:  Good morning! It's a beautiful day today, isn't it? How can I help you?\n",
      "Human: My interest here is to explore the potential of integrating Large Language Models with external knowledge\n",
      "AI:  Interesting! Large Language Models are a type of artificial intelligence that can process natural language and generate text. They can be used to generate text from a given context, or to answer questions about a given context. Integrating them with external knowledge can help them to better understand the context and generate more accurate results. Do you have any specific questions about this integration?\n",
      "Human: I just want to analyze the different possibilities. What can you think of?\n",
      "AI:  There are many possibilities for integrating Large Language Models with external knowledge. For example, you could use external knowledge to provide additional context to the model, or to provide additional training data. You could also use external knowledge to help the model better understand the context of a given text, or to help it generate more accurate results.\n",
      "Human: Which data source types could be used to give context to the model?\n",
      "AI:   Data sources that could be used to give context to the model include text corpora, images, audio, and video. Text corpora can provide additional context to the model by providing additional training data. Images, audio, and video can provide additional context by providing additional visual or auditory information.\n",
      "Human: What is my aim again?\n",
      "AI:  Your aim is to explore the potential of integrating Large Language Models with external knowledge.\n"
     ]
    }
   ],
   "source": [
    "print(conversation_buf.memory.buffer)"
   ]
  },
  {
   "cell_type": "markdown",
   "id": "e77f7394",
   "metadata": {},
   "source": [
    "## Memory type #2: ConversationSummaryMemory"
   ]
  },
  {
   "cell_type": "code",
   "execution_count": 12,
   "id": "68873715",
   "metadata": {},
   "outputs": [],
   "source": [
    "conversation_sum = ConversationChain(\n",
    "    llm=llm, \n",
    "    memory=ConversationSummaryMemory(llm=llm)\n",
    ")"
   ]
  },
  {
   "cell_type": "code",
   "execution_count": 13,
   "id": "33ed9fdc",
   "metadata": {},
   "outputs": [
    {
     "name": "stdout",
     "output_type": "stream",
     "text": [
      "Progressively summarize the lines of conversation provided, adding onto the previous summary returning a new summary.\n",
      "\n",
      "EXAMPLE\n",
      "Current summary:\n",
      "The human asks what the AI thinks of artificial intelligence. The AI thinks artificial intelligence is a force for good.\n",
      "\n",
      "New lines of conversation:\n",
      "Human: Why do you think artificial intelligence is a force for good?\n",
      "AI: Because artificial intelligence will help humans reach their full potential.\n",
      "\n",
      "New summary:\n",
      "The human asks what the AI thinks of artificial intelligence. The AI thinks artificial intelligence is a force for good because it will help humans reach their full potential.\n",
      "END OF EXAMPLE\n",
      "\n",
      "Current summary:\n",
      "{summary}\n",
      "\n",
      "New lines of conversation:\n",
      "{new_lines}\n",
      "\n",
      "New summary:\n"
     ]
    }
   ],
   "source": [
    "print(conversation_sum.memory.prompt.template)"
   ]
  },
  {
   "cell_type": "code",
   "execution_count": 14,
   "id": "49c81221",
   "metadata": {},
   "outputs": [
    {
     "name": "stdout",
     "output_type": "stream",
     "text": [
      "Spent a total of 283 tokens\n"
     ]
    },
    {
     "data": {
      "text/plain": [
       "\" Good morning! It's a beautiful day today, isn't it? How can I help you?\""
      ]
     },
     "execution_count": 14,
     "metadata": {},
     "output_type": "execute_result"
    }
   ],
   "source": [
    "# without count_tokens we'd call `conversation_sum(\"Good morning AI!\")`\n",
    "# but let's keep track of our tokens:\n",
    "count_tokens(\n",
    "    conversation_sum, \n",
    "    \"Good morning AI!\"\n",
    ")"
   ]
  },
  {
   "cell_type": "code",
   "execution_count": 15,
   "id": "987b086c",
   "metadata": {},
   "outputs": [
    {
     "name": "stdout",
     "output_type": "stream",
     "text": [
      "Spent a total of 420 tokens\n"
     ]
    },
    {
     "data": {
      "text/plain": [
       "\" That sounds like an interesting project! I'm familiar with Large Language Models, but I'm not sure how they could be integrated with external knowledge. Could you tell me more about what you have in mind?\""
      ]
     },
     "execution_count": 15,
     "metadata": {},
     "output_type": "execute_result"
    }
   ],
   "source": [
    "count_tokens(\n",
    "    conversation_sum, \n",
    "    \"My interest here is to explore the potential of integrating Large Language Models with external knowledge\"\n",
    ")"
   ]
  },
  {
   "cell_type": "code",
   "execution_count": 16,
   "id": "200cdb8a",
   "metadata": {},
   "outputs": [
    {
     "name": "stdout",
     "output_type": "stream",
     "text": [
      "Spent a total of 629 tokens\n"
     ]
    },
    {
     "data": {
      "text/plain": [
       "' I can think of a few possibilities. One is to use a large language model to generate text that is based on external knowledge. This could be used to generate stories, articles, or other types of content. Another possibility is to use the large language model to generate questions and answers based on external knowledge. This could be used to create a knowledge base or to answer questions posed by users. Finally, the large language model could be used to generate natural language responses to user queries.'"
      ]
     },
     "execution_count": 16,
     "metadata": {},
     "output_type": "execute_result"
    }
   ],
   "source": [
    "count_tokens(\n",
    "    conversation_sum, \n",
    "    \"I just want to analyze the different possibilities. What can you think of?\"\n",
    ")"
   ]
  },
  {
   "cell_type": "code",
   "execution_count": 17,
   "id": "70247358",
   "metadata": {},
   "outputs": [
    {
     "name": "stdout",
     "output_type": "stream",
     "text": [
      "Spent a total of 735 tokens\n"
     ]
    },
    {
     "data": {
      "text/plain": [
       "' The data source types that could be used to give context to the model include structured data sources such as databases, unstructured data sources such as text documents, and semi-structured data sources such as webpages. Additionally, the model could be given context by using external knowledge sources such as ontologies, knowledge graphs, and other knowledge bases.'"
      ]
     },
     "execution_count": 17,
     "metadata": {},
     "output_type": "execute_result"
    }
   ],
   "source": [
    "count_tokens(\n",
    "    conversation_sum, \n",
    "    \"Which data source types could be used to give context to the model?\"\n",
    ")"
   ]
  },
  {
   "cell_type": "code",
   "execution_count": 18,
   "id": "d82c034f",
   "metadata": {},
   "outputs": [
    {
     "name": "stdout",
     "output_type": "stream",
     "text": [
      "Spent a total of 799 tokens\n"
     ]
    },
    {
     "data": {
      "text/plain": [
       "' Your aim is to explore the potential of integrating Large Language Models with external knowledge.'"
      ]
     },
     "execution_count": 18,
     "metadata": {},
     "output_type": "execute_result"
    }
   ],
   "source": [
    "count_tokens(\n",
    "    conversation_sum, \n",
    "    \"What is my aim again?\"\n",
    ")"
   ]
  },
  {
   "cell_type": "code",
   "execution_count": 19,
   "id": "9d181b40",
   "metadata": {},
   "outputs": [
    {
     "name": "stdout",
     "output_type": "stream",
     "text": [
      "\n",
      "The human greeted the AI and the AI responded with a greeting and asked how it could help. The human then expressed interest in exploring the potential of integrating Large Language Models with external knowledge, to which the AI responded positively and asked for more information. The AI then suggested a few possibilities, such as using the large language model to generate text based on external knowledge, generate questions and answers based on external knowledge, or generate natural language responses to user queries. The human then asked which data source types could be used to give context to the model, to which the AI responded that the data source types could include structured data sources such as databases, unstructured data sources such as text documents, and semi-structured data sources such as webpages, as well as external knowledge sources such as ontologies, knowledge graphs, and other knowledge bases. The human then asked what their aim was again, to which the AI responded that their aim was to explore the potential of integrating Large Language Models with external knowledge.\n"
     ]
    }
   ],
   "source": [
    "print(conversation_sum.memory.buffer)"
   ]
  },
  {
   "cell_type": "code",
   "execution_count": 20,
   "id": "0ce26e97",
   "metadata": {},
   "outputs": [
    {
     "name": "stdout",
     "output_type": "stream",
     "text": [
      "Buffer memory conversation length: 318\n",
      "Summary memory conversation length: 201\n"
     ]
    }
   ],
   "source": [
    "# initialize tokenizer\n",
    "tokenizer = tiktoken.encoding_for_model('text-davinci-003')\n",
    "\n",
    "# show number of tokens for the memory used by each memory type\n",
    "print(\n",
    "    f'Buffer memory conversation length: {len(tokenizer.encode(conversation_buf.memory.buffer))}\\n'\n",
    "    f'Summary memory conversation length: {len(tokenizer.encode(conversation_sum.memory.buffer))}'\n",
    ")"
   ]
  },
  {
   "cell_type": "markdown",
   "id": "2db6bde1",
   "metadata": {},
   "source": [
    "## Memory type #3: ConversationBufferWindowMemory"
   ]
  },
  {
   "cell_type": "code",
   "execution_count": 21,
   "id": "86f82977",
   "metadata": {},
   "outputs": [],
   "source": [
    "conversation_bufw = ConversationChain(\n",
    "    llm=llm, \n",
    "    memory=ConversationBufferWindowMemory(k=1)\n",
    ")"
   ]
  },
  {
   "cell_type": "code",
   "execution_count": 22,
   "id": "8dfcae6a",
   "metadata": {},
   "outputs": [
    {
     "name": "stdout",
     "output_type": "stream",
     "text": [
      "Spent a total of 85 tokens\n"
     ]
    },
    {
     "data": {
      "text/plain": [
       "\" Good morning! It's a beautiful day today, isn't it? How can I help you?\""
      ]
     },
     "execution_count": 22,
     "metadata": {},
     "output_type": "execute_result"
    }
   ],
   "source": [
    "count_tokens(\n",
    "    conversation_bufw, \n",
    "    \"Good morning AI!\"\n",
    ")"
   ]
  },
  {
   "cell_type": "code",
   "execution_count": 23,
   "id": "817af24c",
   "metadata": {},
   "outputs": [
    {
     "name": "stdout",
     "output_type": "stream",
     "text": [
      "Spent a total of 176 tokens\n"
     ]
    },
    {
     "data": {
      "text/plain": [
       "' Interesting! Large Language Models are a type of artificial intelligence that can process natural language and generate text. They can be used to generate text from a given context, or to answer questions about a given topic. Integrating them with external knowledge can help them become more accurate and provide more detailed answers. Do you have any specific questions about this topic?'"
      ]
     },
     "execution_count": 23,
     "metadata": {},
     "output_type": "execute_result"
    }
   ],
   "source": [
    "count_tokens(\n",
    "    conversation_bufw, \n",
    "    \"My interest here is to explore the potential of integrating Large Language Models with external knowledge\"\n",
    ")"
   ]
  },
  {
   "cell_type": "code",
   "execution_count": 24,
   "id": "f4bbf949",
   "metadata": {},
   "outputs": [
    {
     "name": "stdout",
     "output_type": "stream",
     "text": [
      "Spent a total of 239 tokens\n"
     ]
    },
    {
     "data": {
      "text/plain": [
       "\" There are many possibilities when it comes to integrating Large Language Models with external knowledge. For example, you could use external knowledge to improve the accuracy of the model's predictions, or to provide more detailed answers to questions. You could also use external knowledge to expand the scope of the model, allowing it to answer questions about topics it may not have been trained on.\""
      ]
     },
     "execution_count": 24,
     "metadata": {},
     "output_type": "execute_result"
    }
   ],
   "source": [
    "count_tokens(\n",
    "    conversation_bufw, \n",
    "    \"I just want to analyze the different possibilities. What can you think of?\"\n",
    ")"
   ]
  },
  {
   "cell_type": "code",
   "execution_count": 25,
   "id": "0024194a",
   "metadata": {},
   "outputs": [
    {
     "name": "stdout",
     "output_type": "stream",
     "text": [
      "Spent a total of 250 tokens\n"
     ]
    },
    {
     "data": {
      "text/plain": [
       "' Data sources that could be used to give context to the model include text corpora, structured databases, and knowledge graphs. Text corpora provide a large amount of natural language data that can be used to train the model. Structured databases provide structured data that can be used to provide context to the model. Knowledge graphs provide a graph-based representation of knowledge that can be used to provide context to the model.'"
      ]
     },
     "execution_count": 25,
     "metadata": {},
     "output_type": "execute_result"
    }
   ],
   "source": [
    "count_tokens(\n",
    "    conversation_bufw, \n",
    "    \"Which data source types could be used to give context to the model?\"\n",
    ")"
   ]
  },
  {
   "cell_type": "code",
   "execution_count": 26,
   "id": "fd1b8ea3",
   "metadata": {},
   "outputs": [
    {
     "name": "stdout",
     "output_type": "stream",
     "text": [
      "Spent a total of 183 tokens\n"
     ]
    },
    {
     "data": {
      "text/plain": [
       "' Your aim is to use data sources to give context to the model.'"
      ]
     },
     "execution_count": 26,
     "metadata": {},
     "output_type": "execute_result"
    }
   ],
   "source": [
    "count_tokens(\n",
    "    conversation_bufw, \n",
    "    \"What is my aim again?\"\n",
    ")"
   ]
  },
  {
   "cell_type": "code",
   "execution_count": 27,
   "id": "4e06bea8",
   "metadata": {},
   "outputs": [],
   "source": [
    "bufw_history = conversation_bufw.memory.load_memory_variables(\n",
    "    inputs=[]\n",
    ")['history']"
   ]
  },
  {
   "cell_type": "code",
   "execution_count": 28,
   "id": "ff9e0ae9",
   "metadata": {},
   "outputs": [
    {
     "name": "stdout",
     "output_type": "stream",
     "text": [
      "Human: What is my aim again?\n",
      "AI:  Your aim is to use data sources to give context to the model.\n"
     ]
    }
   ],
   "source": [
    "print(bufw_history)"
   ]
  },
  {
   "cell_type": "code",
   "execution_count": 29,
   "id": "faad53f4",
   "metadata": {},
   "outputs": [
    {
     "name": "stdout",
     "output_type": "stream",
     "text": [
      "Buffer memory conversation length: 318\n",
      "Summary memory conversation length: 201\n",
      "Buffer window memory conversation length: 26\n"
     ]
    }
   ],
   "source": [
    "print(\n",
    "    f'Buffer memory conversation length: {len(tokenizer.encode(conversation_buf.memory.buffer))}\\n'\n",
    "    f'Summary memory conversation length: {len(tokenizer.encode(conversation_sum.memory.buffer))}\\n'\n",
    "    f'Buffer window memory conversation length: {len(tokenizer.encode(bufw_history))}'\n",
    ")\n"
   ]
  },
  {
   "cell_type": "markdown",
   "id": "0a57eeb7",
   "metadata": {},
   "source": [
    "## Conversation Chains"
   ]
  },
  {
   "cell_type": "code",
   "execution_count": 30,
   "id": "403aa848",
   "metadata": {},
   "outputs": [],
   "source": [
    "!pip install -qU networkx"
   ]
  },
  {
   "cell_type": "code",
   "execution_count": 31,
   "id": "6a86ce8b",
   "metadata": {},
   "outputs": [],
   "source": [
    "conversation_kg = ConversationChain(\n",
    "    llm=llm, \n",
    "    memory=ConversationKGMemory(llm=llm)\n",
    ")"
   ]
  },
  {
   "cell_type": "code",
   "execution_count": 32,
   "id": "2d5323d4",
   "metadata": {},
   "outputs": [
    {
     "name": "stdout",
     "output_type": "stream",
     "text": [
      "Spent a total of 1168 tokens\n"
     ]
    },
    {
     "data": {
      "text/plain": [
       "\" Hi Human! My name is AI. It's nice to meet you. I like mangoes too! Did you know that mangoes are a great source of vitamins A and C?\""
      ]
     },
     "execution_count": 32,
     "metadata": {},
     "output_type": "execute_result"
    }
   ],
   "source": [
    "count_tokens(\n",
    "    conversation_kg, \n",
    "    \"My name is human and I like mangoes!\"\n",
    ")"
   ]
  },
  {
   "cell_type": "code",
   "execution_count": 33,
   "id": "9c6345a6",
   "metadata": {},
   "outputs": [
    {
     "data": {
      "text/plain": [
       "[('Human', 'human', 'name is'), ('Human', 'mangoes', 'likes')]"
      ]
     },
     "execution_count": 33,
     "metadata": {},
     "output_type": "execute_result"
    }
   ],
   "source": [
    "conversation_kg.memory.kg.get_triples()"
   ]
  },
  {
   "cell_type": "code",
   "execution_count": 35,
   "id": "8e9c70b5",
   "metadata": {},
   "outputs": [],
   "source": [
    "from langchain.memory import ConversationEntityMemory\n",
    "\n",
    "memory = ConversationEntityMemory(llm=llm)\n",
    "_input = {\"input\": \"Deven & Sam are traveling for meeting a client.\"}\n",
    "memory.load_memory_variables(_input)\n",
    "memory.save_context(\n",
    "    _input,\n",
    "    {\"ouput\": \" Thats great. What can I do for you?\"}\n",
    ")"
   ]
  },
  {
   "cell_type": "code",
   "execution_count": 36,
   "id": "d1c76f63",
   "metadata": {},
   "outputs": [
    {
     "data": {
      "text/plain": [
       "{'history': 'Human: Deven & Sam are traveling for meeting a client.\\nAI:  Thats great. What can I do for you?',\n",
       " 'entities': {'Sam': 'Sam is traveling for a client meeting.'}}"
      ]
     },
     "execution_count": 36,
     "metadata": {},
     "output_type": "execute_result"
    }
   ],
   "source": [
    "memory.load_memory_variables({\"input\": 'who is Sam'})"
   ]
  },
  {
   "cell_type": "code",
   "execution_count": 37,
   "id": "9beb9183",
   "metadata": {},
   "outputs": [],
   "source": [
    "from langchain.chains import ConversationChain\n",
    "from langchain.memory import ConversationEntityMemory\n",
    "from langchain.memory.prompt import ENTITY_MEMORY_CONVERSATION_TEMPLATE\n",
    "from pydantic import BaseModel\n",
    "from typing import List, Dict, Any"
   ]
  },
  {
   "cell_type": "code",
   "execution_count": 38,
   "id": "42018dc3",
   "metadata": {},
   "outputs": [],
   "source": [
    "conversation = ConversationChain(\n",
    "    llm=llm, \n",
    "    verbose=True,\n",
    "    prompt=ENTITY_MEMORY_CONVERSATION_TEMPLATE,\n",
    "    memory=ConversationEntityMemory(llm=llm)\n",
    ")"
   ]
  },
  {
   "cell_type": "code",
   "execution_count": 40,
   "id": "46564d5b",
   "metadata": {},
   "outputs": [
    {
     "name": "stdout",
     "output_type": "stream",
     "text": [
      "\n",
      "\n",
      "\u001b[1m> Entering new ConversationChain chain...\u001b[0m\n",
      "Prompt after formatting:\n",
      "\u001b[32;1m\u001b[1;3mYou are an assistant to a human, powered by a large language model trained by OpenAI.\n",
      "\n",
      "You are designed to be able to assist with a wide range of tasks, from answering simple questions to providing in-depth explanations and discussions on a wide range of topics. As a language model, you are able to generate human-like text based on the input you receive, allowing you to engage in natural-sounding conversations and provide responses that are coherent and relevant to the topic at hand.\n",
      "\n",
      "You are constantly learning and improving, and your capabilities are constantly evolving. You are able to process and understand large amounts of text, and can use this knowledge to provide accurate and informative responses to a wide range of questions. You have access to some personalized information provided by the human in the Context section below. Additionally, you are able to generate your own text based on the input you receive, allowing you to engage in discussions and provide explanations and descriptions on a wide range of topics.\n",
      "\n",
      "Overall, you are a powerful tool that can help with a wide range of tasks and provide valuable insights and information on a wide range of topics. Whether the human needs help with a specific question or just wants to have a conversation about a particular topic, you are here to assist.\n",
      "\n",
      "Context:\n",
      "{'New York': 'New York is a popular travel destination.', 'Sam': ''}\n",
      "\n",
      "Current conversation:\n",
      "Human: Want to travel to New York tonight\n",
      "AI:  Sure, I can help you plan your trip to New York. What kind of activities are you interested in doing while you're there?\n",
      "Last line:\n",
      "Human: Sam wants to travel to New York tonight\n",
      "You:\u001b[0m\n",
      "\n",
      "\u001b[1m> Finished chain.\u001b[0m\n"
     ]
    },
    {
     "data": {
      "text/plain": [
       "\" Hi Sam, it looks like you're interested in traveling to New York tonight. What kind of activities would you like to do while you're there?\""
      ]
     },
     "execution_count": 40,
     "metadata": {},
     "output_type": "execute_result"
    }
   ],
   "source": [
    "conversation.predict(input=\"Sam wants to travel to New York tonight\")"
   ]
  },
  {
   "cell_type": "code",
   "execution_count": 41,
   "id": "a41bfd82",
   "metadata": {},
   "outputs": [
    {
     "data": {
      "text/plain": [
       "{'New York': 'New York is a popular travel destination, and Sam is interested in visiting tonight.',\n",
       " 'Sam': 'Sam is interested in traveling to New York tonight.'}"
      ]
     },
     "execution_count": 41,
     "metadata": {},
     "output_type": "execute_result"
    }
   ],
   "source": [
    "conversation.memory.store"
   ]
  },
  {
   "cell_type": "code",
   "execution_count": 43,
   "id": "74dababc",
   "metadata": {},
   "outputs": [
    {
     "name": "stdout",
     "output_type": "stream",
     "text": [
      "\n",
      "\n",
      "\u001b[1m> Entering new ConversationChain chain...\u001b[0m\n",
      "Prompt after formatting:\n",
      "\u001b[32;1m\u001b[1;3mYou are an assistant to a human, powered by a large language model trained by OpenAI.\n",
      "\n",
      "You are designed to be able to assist with a wide range of tasks, from answering simple questions to providing in-depth explanations and discussions on a wide range of topics. As a language model, you are able to generate human-like text based on the input you receive, allowing you to engage in natural-sounding conversations and provide responses that are coherent and relevant to the topic at hand.\n",
      "\n",
      "You are constantly learning and improving, and your capabilities are constantly evolving. You are able to process and understand large amounts of text, and can use this knowledge to provide accurate and informative responses to a wide range of questions. You have access to some personalized information provided by the human in the Context section below. Additionally, you are able to generate your own text based on the input you receive, allowing you to engage in discussions and provide explanations and descriptions on a wide range of topics.\n",
      "\n",
      "Overall, you are a powerful tool that can help with a wide range of tasks and provide valuable insights and information on a wide range of topics. Whether the human needs help with a specific question or just wants to have a conversation about a particular topic, you are here to assist.\n",
      "\n",
      "Context:\n",
      "{'New York': 'New York is a popular travel destination, and Sam is interested in visiting tonight.'}\n",
      "\n",
      "Current conversation:\n",
      "Human: Want to travel to New York tonight\n",
      "AI:  Sure, I can help you plan your trip to New York. What kind of activities are you interested in doing while you're there?\n",
      "Human: Sam wants to travel to New York tonight\n",
      "AI:  Hi Sam, it looks like you're interested in traveling to New York tonight. What kind of activities would you like to do while you're there?\n",
      "Last line:\n",
      "Human: I am not interested in activites but can you help me book tickets?\n",
      "You:\u001b[0m\n",
      "\n",
      "\u001b[1m> Finished chain.\u001b[0m\n"
     ]
    },
    {
     "data": {
      "text/plain": [
       "' Absolutely! I can help you book tickets for your trip to New York. What type of tickets are you looking for?'"
      ]
     },
     "execution_count": 43,
     "metadata": {},
     "output_type": "execute_result"
    }
   ],
   "source": [
    "conversation.predict(input=\"I am not interested in activites but can you help me book tickets?\")"
   ]
  },
  {
   "cell_type": "code",
   "execution_count": 44,
   "id": "e4d0a5ca",
   "metadata": {},
   "outputs": [
    {
     "data": {
      "text/plain": [
       "{'New York': 'New York is a popular travel destination, and Sam is interested in visiting tonight and is looking to book tickets.',\n",
       " 'Sam': 'Sam is interested in traveling to New York tonight.'}"
      ]
     },
     "execution_count": 44,
     "metadata": {},
     "output_type": "execute_result"
    }
   ],
   "source": [
    "conversation.memory.store"
   ]
  },
  {
   "cell_type": "code",
   "execution_count": 45,
   "id": "5bb7b5f1",
   "metadata": {},
   "outputs": [
    {
     "name": "stdout",
     "output_type": "stream",
     "text": [
      "\n",
      "\n",
      "\u001b[1m> Entering new ConversationChain chain...\u001b[0m\n",
      "Prompt after formatting:\n",
      "\u001b[32;1m\u001b[1;3mYou are an assistant to a human, powered by a large language model trained by OpenAI.\n",
      "\n",
      "You are designed to be able to assist with a wide range of tasks, from answering simple questions to providing in-depth explanations and discussions on a wide range of topics. As a language model, you are able to generate human-like text based on the input you receive, allowing you to engage in natural-sounding conversations and provide responses that are coherent and relevant to the topic at hand.\n",
      "\n",
      "You are constantly learning and improving, and your capabilities are constantly evolving. You are able to process and understand large amounts of text, and can use this knowledge to provide accurate and informative responses to a wide range of questions. You have access to some personalized information provided by the human in the Context section below. Additionally, you are able to generate your own text based on the input you receive, allowing you to engage in discussions and provide explanations and descriptions on a wide range of topics.\n",
      "\n",
      "Overall, you are a powerful tool that can help with a wide range of tasks and provide valuable insights and information on a wide range of topics. Whether the human needs help with a specific question or just wants to have a conversation about a particular topic, you are here to assist.\n",
      "\n",
      "Context:\n",
      "{'New York': 'New York is a popular travel destination, and Sam is interested in visiting tonight and is looking to book tickets.', 'Sam': 'Sam is interested in traveling to New York tonight.', 'Flight': ''}\n",
      "\n",
      "Current conversation:\n",
      "Human: Want to travel to New York tonight\n",
      "AI:  Sure, I can help you plan your trip to New York. What kind of activities are you interested in doing while you're there?\n",
      "Human: Sam wants to travel to New York tonight\n",
      "AI:  Hi Sam, it looks like you're interested in traveling to New York tonight. What kind of activities would you like to do while you're there?\n",
      "Human: I am not interested in activites but can you help me book tickets?\n",
      "AI:  Absolutely! I can help you book tickets for your trip to New York. What type of tickets are you looking for?\n",
      "Last line:\n",
      "Human: Flight tickets. Can you book for tomorrow?\n",
      "You:\u001b[0m\n",
      "\n",
      "\u001b[1m> Finished chain.\u001b[0m\n"
     ]
    },
    {
     "data": {
      "text/plain": [
       "' Sure, I can help you book flight tickets for tomorrow. What time would you like to depart and what airline would you like to fly with?'"
      ]
     },
     "execution_count": 45,
     "metadata": {},
     "output_type": "execute_result"
    }
   ],
   "source": [
    "conversation.predict(input=\"Flight tickets. Can you book for tomorrow?\")"
   ]
  },
  {
   "cell_type": "code",
   "execution_count": 46,
   "id": "95408420",
   "metadata": {},
   "outputs": [
    {
     "name": "stdout",
     "output_type": "stream",
     "text": [
      "\n",
      "\n",
      "\u001b[1m> Entering new ConversationChain chain...\u001b[0m\n",
      "Prompt after formatting:\n",
      "\u001b[32;1m\u001b[1;3mYou are an assistant to a human, powered by a large language model trained by OpenAI.\n",
      "\n",
      "You are designed to be able to assist with a wide range of tasks, from answering simple questions to providing in-depth explanations and discussions on a wide range of topics. As a language model, you are able to generate human-like text based on the input you receive, allowing you to engage in natural-sounding conversations and provide responses that are coherent and relevant to the topic at hand.\n",
      "\n",
      "You are constantly learning and improving, and your capabilities are constantly evolving. You are able to process and understand large amounts of text, and can use this knowledge to provide accurate and informative responses to a wide range of questions. You have access to some personalized information provided by the human in the Context section below. Additionally, you are able to generate your own text based on the input you receive, allowing you to engage in discussions and provide explanations and descriptions on a wide range of topics.\n",
      "\n",
      "Overall, you are a powerful tool that can help with a wide range of tasks and provide valuable insights and information on a wide range of topics. Whether the human needs help with a specific question or just wants to have a conversation about a particular topic, you are here to assist.\n",
      "\n",
      "Context:\n",
      "{'New York': 'New York is a popular travel destination, and Sam is interested in visiting tomorrow and is looking to book flight tickets.', 'Alaska': '', '9pm': ''}\n",
      "\n",
      "Current conversation:\n",
      "Human: Sam wants to travel to New York tonight\n",
      "AI:  Hi Sam, it looks like you're interested in traveling to New York tonight. What kind of activities would you like to do while you're there?\n",
      "Human: I am not interested in activites but can you help me book tickets?\n",
      "AI:  Absolutely! I can help you book tickets for your trip to New York. What type of tickets are you looking for?\n",
      "Human: Flight tickets. Can you book for tomorrow?\n",
      "AI:  Sure, I can help you book flight tickets for tomorrow. What time would you like to depart and what airline would you like to fly with?\n",
      "Last line:\n",
      "Human: Alaska. 9pm. Don't you need to the departing city?\n",
      "You:\u001b[0m\n",
      "\n",
      "\u001b[1m> Finished chain.\u001b[0m\n"
     ]
    },
    {
     "data": {
      "text/plain": [
       "' Yes, I do need the departing city. Where would you like to depart from?'"
      ]
     },
     "execution_count": 46,
     "metadata": {},
     "output_type": "execute_result"
    }
   ],
   "source": [
    "conversation.predict(input=\"Alaska. 9pm. Don't you need to the departing city?\")"
   ]
  },
  {
   "cell_type": "code",
   "execution_count": 47,
   "id": "ef60e812",
   "metadata": {},
   "outputs": [
    {
     "name": "stdout",
     "output_type": "stream",
     "text": [
      "{'9pm': '9pm is the desired departure time for a flight ticket to New York '\n",
      "        'with Alaska Airlines.',\n",
      " 'Alaska': 'Alaska is an airline that offers flights departing at 9pm.',\n",
      " 'Flight': 'Flight tickets can be booked for tomorrow.',\n",
      " 'New York': 'New York is a popular travel destination, and Sam is interested '\n",
      "             'in visiting tomorrow and is looking to book flight tickets with '\n",
      "             'Alaska Airlines at 9pm.',\n",
      " 'Sam': 'Sam is interested in traveling to New York tomorrow and booking '\n",
      "        'flight tickets.'}\n"
     ]
    }
   ],
   "source": [
    "from pprint import pprint\n",
    "pprint(conversation.memory.store)"
   ]
  },
  {
   "cell_type": "code",
   "execution_count": 48,
   "id": "b790181e",
   "metadata": {},
   "outputs": [
    {
     "name": "stdout",
     "output_type": "stream",
     "text": [
      "\n",
      "\n",
      "\u001b[1m> Entering new ConversationChain chain...\u001b[0m\n",
      "Prompt after formatting:\n",
      "\u001b[32;1m\u001b[1;3mYou are an assistant to a human, powered by a large language model trained by OpenAI.\n",
      "\n",
      "You are designed to be able to assist with a wide range of tasks, from answering simple questions to providing in-depth explanations and discussions on a wide range of topics. As a language model, you are able to generate human-like text based on the input you receive, allowing you to engage in natural-sounding conversations and provide responses that are coherent and relevant to the topic at hand.\n",
      "\n",
      "You are constantly learning and improving, and your capabilities are constantly evolving. You are able to process and understand large amounts of text, and can use this knowledge to provide accurate and informative responses to a wide range of questions. You have access to some personalized information provided by the human in the Context section below. Additionally, you are able to generate your own text based on the input you receive, allowing you to engage in discussions and provide explanations and descriptions on a wide range of topics.\n",
      "\n",
      "Overall, you are a powerful tool that can help with a wide range of tasks and provide valuable insights and information on a wide range of topics. Whether the human needs help with a specific question or just wants to have a conversation about a particular topic, you are here to assist.\n",
      "\n",
      "Context:\n",
      "{'Seattle': '', 'Alaska': 'Alaska is an airline that offers flights departing at 9pm.'}\n",
      "\n",
      "Current conversation:\n",
      "Human: I am not interested in activites but can you help me book tickets?\n",
      "AI:  Absolutely! I can help you book tickets for your trip to New York. What type of tickets are you looking for?\n",
      "Human: Flight tickets. Can you book for tomorrow?\n",
      "AI:  Sure, I can help you book flight tickets for tomorrow. What time would you like to depart and what airline would you like to fly with?\n",
      "Human: Alaska. 9pm. Don't you need to the departing city?\n",
      "AI:  Yes, I do need the departing city. Where would you like to depart from?\n",
      "Last line:\n",
      "Human: Seattle.\n",
      "You:\u001b[0m\n",
      "\n",
      "\u001b[1m> Finished chain.\u001b[0m\n"
     ]
    },
    {
     "data": {
      "text/plain": [
       "' Sure, I can help you book a flight from Seattle to New York with Alaska departing at 9pm. Is there anything else I can help you with?'"
      ]
     },
     "execution_count": 48,
     "metadata": {},
     "output_type": "execute_result"
    }
   ],
   "source": [
    "conversation.predict(input=\"Seattle.\")"
   ]
  },
  {
   "cell_type": "code",
   "execution_count": 49,
   "id": "79fb810f",
   "metadata": {},
   "outputs": [
    {
     "name": "stdout",
     "output_type": "stream",
     "text": [
      "{'9pm': '9pm is the desired departure time for a flight ticket to New York '\n",
      "        'with Alaska Airlines.',\n",
      " 'Alaska': 'Alaska is an airline that offers flights departing at 9pm from '\n",
      "           'Seattle.',\n",
      " 'Flight': 'Flight tickets can be booked for tomorrow.',\n",
      " 'New York': 'New York is a popular travel destination, and Sam is interested '\n",
      "             'in visiting tomorrow and is looking to book flight tickets with '\n",
      "             'Alaska Airlines at 9pm.',\n",
      " 'Sam': 'Sam is interested in traveling to New York tomorrow and booking '\n",
      "        'flight tickets.',\n",
      " 'Seattle': 'Seattle is a city in the United States.'}\n"
     ]
    }
   ],
   "source": [
    "from pprint import pprint\n",
    "pprint(conversation.memory.store)"
   ]
  },
  {
   "cell_type": "code",
   "execution_count": 50,
   "id": "cbe06571",
   "metadata": {},
   "outputs": [
    {
     "name": "stdout",
     "output_type": "stream",
     "text": [
      "\n",
      "\n",
      "\u001b[1m> Entering new ConversationChain chain...\u001b[0m\n",
      "Prompt after formatting:\n",
      "\u001b[32;1m\u001b[1;3mYou are an assistant to a human, powered by a large language model trained by OpenAI.\n",
      "\n",
      "You are designed to be able to assist with a wide range of tasks, from answering simple questions to providing in-depth explanations and discussions on a wide range of topics. As a language model, you are able to generate human-like text based on the input you receive, allowing you to engage in natural-sounding conversations and provide responses that are coherent and relevant to the topic at hand.\n",
      "\n",
      "You are constantly learning and improving, and your capabilities are constantly evolving. You are able to process and understand large amounts of text, and can use this knowledge to provide accurate and informative responses to a wide range of questions. You have access to some personalized information provided by the human in the Context section below. Additionally, you are able to generate your own text based on the input you receive, allowing you to engage in discussions and provide explanations and descriptions on a wide range of topics.\n",
      "\n",
      "Overall, you are a powerful tool that can help with a wide range of tasks and provide valuable insights and information on a wide range of topics. Whether the human needs help with a specific question or just wants to have a conversation about a particular topic, you are here to assist.\n",
      "\n",
      "Context:\n",
      "{'Alaska': 'Alaska is an airline that offers flights departing at 9pm from Seattle.', 'Seattle': 'Seattle is a city in the United States.', 'New York': 'New York is a popular travel destination, and Sam is interested in visiting tomorrow and is looking to book flight tickets with Alaska Airlines at 9pm.'}\n",
      "\n",
      "Current conversation:\n",
      "Human: Flight tickets. Can you book for tomorrow?\n",
      "AI:  Sure, I can help you book flight tickets for tomorrow. What time would you like to depart and what airline would you like to fly with?\n",
      "Human: Alaska. 9pm. Don't you need to the departing city?\n",
      "AI:  Yes, I do need the departing city. Where would you like to depart from?\n",
      "Human: Seattle.\n",
      "AI:  Sure, I can help you book a flight from Seattle to New York with Alaska departing at 9pm. Is there anything else I can help you with?\n",
      "Last line:\n",
      "Human: No. Thanks. That is all.\n",
      "You:\u001b[0m\n",
      "\n",
      "\u001b[1m> Finished chain.\u001b[0m\n"
     ]
    },
    {
     "data": {
      "text/plain": [
       "' No problem! Is there anything else I can help you with?'"
      ]
     },
     "execution_count": 50,
     "metadata": {},
     "output_type": "execute_result"
    }
   ],
   "source": [
    "conversation.predict(input=\"No. Thanks. That is all.\")"
   ]
  },
  {
   "cell_type": "code",
   "execution_count": 51,
   "id": "6023caf5",
   "metadata": {},
   "outputs": [
    {
     "name": "stdout",
     "output_type": "stream",
     "text": [
      "\n",
      "\n",
      "\u001b[1m> Entering new ConversationChain chain...\u001b[0m\n",
      "Prompt after formatting:\n",
      "\u001b[32;1m\u001b[1;3mYou are an assistant to a human, powered by a large language model trained by OpenAI.\n",
      "\n",
      "You are designed to be able to assist with a wide range of tasks, from answering simple questions to providing in-depth explanations and discussions on a wide range of topics. As a language model, you are able to generate human-like text based on the input you receive, allowing you to engage in natural-sounding conversations and provide responses that are coherent and relevant to the topic at hand.\n",
      "\n",
      "You are constantly learning and improving, and your capabilities are constantly evolving. You are able to process and understand large amounts of text, and can use this knowledge to provide accurate and informative responses to a wide range of questions. You have access to some personalized information provided by the human in the Context section below. Additionally, you are able to generate your own text based on the input you receive, allowing you to engage in discussions and provide explanations and descriptions on a wide range of topics.\n",
      "\n",
      "Overall, you are a powerful tool that can help with a wide range of tasks and provide valuable insights and information on a wide range of topics. Whether the human needs help with a specific question or just wants to have a conversation about a particular topic, you are here to assist.\n",
      "\n",
      "Context:\n",
      "{'Alaska': 'Alaska is an airline that offers flights departing at 9pm from Seattle to New York.', 'Seattle': 'Seattle is a city in the United States, from which Alaska flights depart at 9pm.', 'New York': 'New York is a popular travel destination, and Sam is interested in visiting tomorrow and is looking to book flight tickets with Alaska Airlines at 9pm from Seattle.'}\n",
      "\n",
      "Current conversation:\n",
      "Human: Alaska. 9pm. Don't you need to the departing city?\n",
      "AI:  Yes, I do need the departing city. Where would you like to depart from?\n",
      "Human: Seattle.\n",
      "AI:  Sure, I can help you book a flight from Seattle to New York with Alaska departing at 9pm. Is there anything else I can help you with?\n",
      "Human: No. Thanks. That is all.\n",
      "AI:  No problem! Is there anything else I can help you with?\n",
      "Last line:\n",
      "Human: Can you send me a summary of what we talked about?\n",
      "You:\u001b[0m\n",
      "\n",
      "\u001b[1m> Finished chain.\u001b[0m\n"
     ]
    },
    {
     "data": {
      "text/plain": [
       "' Absolutely! I can provide you with a summary of our conversation. You are looking to book a flight with Alaska Airlines departing from Seattle to New York at 9pm. Is there anything else I can help you with?'"
      ]
     },
     "execution_count": 51,
     "metadata": {},
     "output_type": "execute_result"
    }
   ],
   "source": [
    "conversation.predict(input=\"Can you send me a summary of what we talked about?\")"
   ]
  },
  {
   "cell_type": "code",
   "execution_count": 53,
   "id": "db33f7c5",
   "metadata": {},
   "outputs": [
    {
     "name": "stderr",
     "output_type": "stream",
     "text": [
      "Retrying langchain.llms.openai.completion_with_retry.<locals>._completion_with_retry in 4.0 seconds as it raised APIConnectionError: Error communicating with OpenAI: ('Connection aborted.', RemoteDisconnected('Remote end closed connection without response')).\n"
     ]
    },
    {
     "name": "stdout",
     "output_type": "stream",
     "text": [
      "\n",
      "\n",
      "\u001b[1m> Entering new ConversationChain chain...\u001b[0m\n",
      "Prompt after formatting:\n",
      "\u001b[32;1m\u001b[1;3mYou are an assistant to a human, powered by a large language model trained by OpenAI.\n",
      "\n",
      "You are designed to be able to assist with a wide range of tasks, from answering simple questions to providing in-depth explanations and discussions on a wide range of topics. As a language model, you are able to generate human-like text based on the input you receive, allowing you to engage in natural-sounding conversations and provide responses that are coherent and relevant to the topic at hand.\n",
      "\n",
      "You are constantly learning and improving, and your capabilities are constantly evolving. You are able to process and understand large amounts of text, and can use this knowledge to provide accurate and informative responses to a wide range of questions. You have access to some personalized information provided by the human in the Context section below. Additionally, you are able to generate your own text based on the input you receive, allowing you to engage in discussions and provide explanations and descriptions on a wide range of topics.\n",
      "\n",
      "Overall, you are a powerful tool that can help with a wide range of tasks and provide valuable insights and information on a wide range of topics. Whether the human needs help with a specific question or just wants to have a conversation about a particular topic, you are here to assist.\n",
      "\n",
      "Context:\n",
      "{'Seattle': 'Seattle is a city in the United States, from which Alaska flights depart at 9pm, and is the origin of a flight to New York.', 'New York': 'New York is a popular travel destination, and Sam is interested in visiting tomorrow and is looking to book flight tickets with Alaska Airlines at 9pm from Seattle, as discussed in the conversation.', 'Alaska': 'Alaska is an airline that offers flights departing at 9pm from Seattle to New York, as discussed in the conversation.', 'Lion King': '', 'Statue of Liberty': '', 'Times Square': ''}\n",
      "\n",
      "Current conversation:\n",
      "Human: Seattle.\n",
      "AI:  Sure, I can help you book a flight from Seattle to New York with Alaska departing at 9pm. Is there anything else I can help you with?\n",
      "Human: No. Thanks. That is all.\n",
      "AI:  No problem! Is there anything else I can help you with?\n",
      "Human: Can you send me a summary of what we talked about?\n",
      "AI:  Absolutely! I can provide you with a summary of our conversation. You are looking to book a flight with Alaska Airlines departing from Seattle to New York at 9pm. Is there anything else I can help you with?\n",
      "Last line:\n",
      "Human: I had gone to New York many years ago. There was this broadway show. What was the name? Lion King! It was incredible. We also went to Statue of Liberity cruise. Can you help me get tickets for these 2 events? also maybe a list of hotels near Times Square will be great\n",
      "You:\u001b[0m\n",
      "\n",
      "\u001b[1m> Finished chain.\u001b[0m\n"
     ]
    },
    {
     "data": {
      "text/plain": [
       "' Sure, I can help you with that. For the Lion King show, I can provide you with a list of available tickets and prices. For the Statue of Liberty cruise, I can provide you with a list of available tours and prices. For hotels near Times Square, I can provide you with a list of available hotels and prices. Is there anything else I can help you with?'"
      ]
     },
     "execution_count": 53,
     "metadata": {},
     "output_type": "execute_result"
    }
   ],
   "source": [
    "conversation.predict(input=\"I had gone to New York many years ago. There was this broadway show. What was the name? Lion King! It was incredible. We also went to Statue of Liberity cruise. Can you help me get tickets for these 2 events? also maybe a list of hotels near Times Square will be great\")"
   ]
  },
  {
   "cell_type": "code",
   "execution_count": 54,
   "id": "22b1cd99",
   "metadata": {},
   "outputs": [
    {
     "name": "stdout",
     "output_type": "stream",
     "text": [
      "{'9pm': '9pm is the desired departure time for a flight ticket to New York '\n",
      "        'with Alaska Airlines.',\n",
      " 'Alaska': 'Alaska is an airline that offers flights departing at 9pm from '\n",
      "           'Seattle to New York, as discussed in the conversation. The human '\n",
      "           'also mentioned having gone to New York many years ago and having '\n",
      "           'seen the Broadway show Lion King.',\n",
      " 'Flight': 'Flight tickets can be booked for tomorrow.',\n",
      " 'Lion King': 'Lion King is a Broadway show that the human experienced in New '\n",
      "              'York many years ago and found it to be incredible.',\n",
      " 'New York': 'New York is a popular travel destination, and Sam is interested '\n",
      "             'in visiting tomorrow and is looking to book flight tickets with '\n",
      "             'Alaska Airlines at 9pm from Seattle, as discussed in the '\n",
      "             'conversation. Sam has previously visited New York and enjoyed '\n",
      "             'the Broadway show \"The Lion King\" and a Statue of Liberty '\n",
      "             'cruise.',\n",
      " 'Sam': 'Sam is interested in traveling to New York tomorrow and booking '\n",
      "        'flight tickets.',\n",
      " 'Seattle': 'Seattle is a city in the United States, from which Alaska flights '\n",
      "            'depart at 9pm, and is the origin of a flight to New York. It is '\n",
      "            'also the origin of a trip to New York that the human took many '\n",
      "            'years ago, which included a Broadway show (the Lion King) and a '\n",
      "            'Statue of Liberty cruise.',\n",
      " 'Statue of Liberty': 'The Statue of Liberty is a popular tourist attraction '\n",
      "                      'in New York, offering cruises and tours.',\n",
      " 'Times Square': 'Times Square is a neighborhood in New York City, located '\n",
      "                 'near the Statue of Liberty cruise and offering a variety of '\n",
      "                 'hotels and Broadway shows.'}\n"
     ]
    }
   ],
   "source": [
    "from pprint import pprint\n",
    "pprint(conversation.memory.store)"
   ]
  },
  {
   "cell_type": "code",
   "execution_count": 55,
   "id": "b2e9c3d2",
   "metadata": {},
   "outputs": [
    {
     "name": "stderr",
     "output_type": "stream",
     "text": [
      "Retrying langchain.llms.openai.completion_with_retry.<locals>._completion_with_retry in 4.0 seconds as it raised APIConnectionError: Error communicating with OpenAI: ('Connection aborted.', RemoteDisconnected('Remote end closed connection without response')).\n"
     ]
    },
    {
     "name": "stdout",
     "output_type": "stream",
     "text": [
      "\n",
      "\n",
      "\u001b[1m> Entering new ConversationChain chain...\u001b[0m\n",
      "Prompt after formatting:\n",
      "\u001b[32;1m\u001b[1;3mYou are an assistant to a human, powered by a large language model trained by OpenAI.\n",
      "\n",
      "You are designed to be able to assist with a wide range of tasks, from answering simple questions to providing in-depth explanations and discussions on a wide range of topics. As a language model, you are able to generate human-like text based on the input you receive, allowing you to engage in natural-sounding conversations and provide responses that are coherent and relevant to the topic at hand.\n",
      "\n",
      "You are constantly learning and improving, and your capabilities are constantly evolving. You are able to process and understand large amounts of text, and can use this knowledge to provide accurate and informative responses to a wide range of questions. You have access to some personalized information provided by the human in the Context section below. Additionally, you are able to generate your own text based on the input you receive, allowing you to engage in discussions and provide explanations and descriptions on a wide range of topics.\n",
      "\n",
      "Overall, you are a powerful tool that can help with a wide range of tasks and provide valuable insights and information on a wide range of topics. Whether the human needs help with a specific question or just wants to have a conversation about a particular topic, you are here to assist.\n",
      "\n",
      "Context:\n",
      "{'Alaska Airlines': '', 'Seattle': 'Seattle is a city in the United States, from which Alaska flights depart at 9pm, and is the origin of a flight to New York. It is also the origin of a trip to New York that the human took many years ago, which included a Broadway show (the Lion King) and a Statue of Liberty cruise.', 'New York': 'New York is a popular travel destination, and Sam is interested in visiting tomorrow and is looking to book flight tickets with Alaska Airlines at 9pm from Seattle, as discussed in the conversation. Sam has previously visited New York and enjoyed the Broadway show \"The Lion King\" and a Statue of Liberty cruise.', 'Lion King': 'Lion King is a Broadway show that the human experienced in New York many years ago and found it to be incredible.', 'Statue of Liberty': 'The Statue of Liberty is a popular tourist attraction in New York, offering cruises and tours.', 'Times Square': 'Times Square is a neighborhood in New York City, located near the Statue of Liberty cruise and offering a variety of hotels and Broadway shows.'}\n",
      "\n",
      "Current conversation:\n",
      "Human: No. Thanks. That is all.\n",
      "AI:  No problem! Is there anything else I can help you with?\n",
      "Human: Can you send me a summary of what we talked about?\n",
      "AI:  Absolutely! I can provide you with a summary of our conversation. You are looking to book a flight with Alaska Airlines departing from Seattle to New York at 9pm. Is there anything else I can help you with?\n",
      "Human: I had gone to New York many years ago. There was this broadway show. What was the name? Lion King! It was incredible. We also went to Statue of Liberity cruise. Can you help me get tickets for these 2 events? also maybe a list of hotels near Times Square will be great\n",
      "AI:  Sure, I can help you with that. For the Lion King show, I can provide you with a list of available tickets and prices. For the Statue of Liberty cruise, I can provide you with a list of available tours and prices. For hotels near Times Square, I can provide you with a list of available hotels and prices. Is there anything else I can help you with?\n",
      "Last line:\n",
      "Human: Thanks. That will be all. Can you give me the list now?\n",
      "You:\u001b[0m\n",
      "\n",
      "\u001b[1m> Finished chain.\u001b[0m\n"
     ]
    },
    {
     "data": {
      "text/plain": [
       "' Absolutely! I can provide you with the list of available tickets, tours, and hotels near Times Square. Please let me know if there is anything else I can help you with.'"
      ]
     },
     "execution_count": 55,
     "metadata": {},
     "output_type": "execute_result"
    }
   ],
   "source": [
    "conversation.predict(input=\"Thanks. That will be all. Can you give me the list now?\")"
   ]
  },
  {
   "cell_type": "code",
   "execution_count": 56,
   "id": "9076daf9",
   "metadata": {},
   "outputs": [
    {
     "data": {
      "text/plain": [
       "{'history': 'Human: Can you send me a summary of what we talked about?\\nAI:  Absolutely! I can provide you with a summary of our conversation. You are looking to book a flight with Alaska Airlines departing from Seattle to New York at 9pm. Is there anything else I can help you with?\\nHuman: I had gone to New York many years ago. There was this broadway show. What was the name? Lion King! It was incredible. We also went to Statue of Liberity cruise. Can you help me get tickets for these 2 events? also maybe a list of hotels near Times Square will be great\\nAI:  Sure, I can help you with that. For the Lion King show, I can provide you with a list of available tickets and prices. For the Statue of Liberty cruise, I can provide you with a list of available tours and prices. For hotels near Times Square, I can provide you with a list of available hotels and prices. Is there anything else I can help you with?\\nHuman: Thanks. That will be all. Can you give me the list now?\\nAI:  Absolutely! I can provide you with the list of available tickets, tours, and hotels near Times Square. Please let me know if there is anything else I can help you with.',\n",
       " 'entities': {'Hilton': '',\n",
       "  'Mariott': '',\n",
       "  'Times Square': 'Times Square is a neighborhood in New York City, located near the Statue of Liberty cruise and offering a variety of hotels, Broadway shows, tickets, and tours.'}}"
      ]
     },
     "execution_count": 56,
     "metadata": {},
     "output_type": "execute_result"
    }
   ],
   "source": [
    "conversation.memory.load_memory_variables({\"input\": 'Hilton and Mariott hotels are near Times Square'})"
   ]
  },
  {
   "cell_type": "code",
   "execution_count": 57,
   "id": "1cbdac26",
   "metadata": {},
   "outputs": [
    {
     "name": "stdout",
     "output_type": "stream",
     "text": [
      "{'9pm': '9pm is the desired departure time for a flight ticket to New York '\n",
      "        'with Alaska Airlines.',\n",
      " 'Alaska': 'Alaska is an airline that offers flights departing at 9pm from '\n",
      "           'Seattle to New York, as discussed in the conversation. The human '\n",
      "           'also mentioned having gone to New York many years ago and having '\n",
      "           'seen the Broadway show Lion King.',\n",
      " 'Alaska Airlines': 'Alaska Airlines offers flights departing from Seattle to '\n",
      "                    'New York at 9pm.',\n",
      " 'Flight': 'Flight tickets can be booked for tomorrow.',\n",
      " 'Lion King': 'Lion King is a Broadway show that the human experienced in New '\n",
      "              'York many years ago and found it to be incredible. The human '\n",
      "              'requested a list of available tickets, tours, and hotels near '\n",
      "              'Times Square.',\n",
      " 'New York': 'New York is a popular travel destination, and Sam is interested '\n",
      "             'in visiting tomorrow and is looking to book flight tickets with '\n",
      "             'Alaska Airlines at 9pm from Seattle, as discussed in the '\n",
      "             'conversation. Sam has previously visited New York and enjoyed '\n",
      "             'the Broadway show \"The Lion King\" and a Statue of Liberty '\n",
      "             'cruise, and is now looking for a list of available tickets, '\n",
      "             'tours, and hotels near Times Square.',\n",
      " 'Sam': 'Sam is interested in traveling to New York tomorrow and booking '\n",
      "        'flight tickets.',\n",
      " 'Seattle': 'Seattle is a city in the United States, from which Alaska flights '\n",
      "            'depart at 9pm, and is the origin of a flight to New York. It is '\n",
      "            'also the origin of a trip to New York that the human took many '\n",
      "            'years ago, which included a Broadway show (the Lion King) and a '\n",
      "            'Statue of Liberty cruise. The AI assistant is providing the human '\n",
      "            'with a list of available tickets, tours, and hotels near Times '\n",
      "            'Square.',\n",
      " 'Statue of Liberty': 'The Statue of Liberty is a popular tourist attraction '\n",
      "                      'in New York, offering cruises and tours, with a list of '\n",
      "                      'available tickets and tours available.',\n",
      " 'Times Square': 'Times Square is a neighborhood in New York City, located '\n",
      "                 'near the Statue of Liberty cruise and offering a variety of '\n",
      "                 'hotels, Broadway shows, tickets, and tours.'}\n"
     ]
    }
   ],
   "source": [
    "from pprint import pprint\n",
    "pprint(conversation.memory.store)"
   ]
  },
  {
   "cell_type": "code",
   "execution_count": 59,
   "id": "c80ebcea",
   "metadata": {},
   "outputs": [],
   "source": [
    "conversation.memory.save_context(\n",
    "    {\"input\": 'Hilton and Mariott hotels are near Times Square'},\n",
    "    {\"ouput\": \"Thats good to know!\"}\n",
    ")"
   ]
  },
  {
   "cell_type": "code",
   "execution_count": 60,
   "id": "ed22564e",
   "metadata": {},
   "outputs": [
    {
     "data": {
      "text/plain": [
       "{'history': 'Human: I had gone to New York many years ago. There was this broadway show. What was the name? Lion King! It was incredible. We also went to Statue of Liberity cruise. Can you help me get tickets for these 2 events? also maybe a list of hotels near Times Square will be great\\nAI:  Sure, I can help you with that. For the Lion King show, I can provide you with a list of available tickets and prices. For the Statue of Liberty cruise, I can provide you with a list of available tours and prices. For hotels near Times Square, I can provide you with a list of available hotels and prices. Is there anything else I can help you with?\\nHuman: Thanks. That will be all. Can you give me the list now?\\nAI:  Absolutely! I can provide you with the list of available tickets, tours, and hotels near Times Square. Please let me know if there is anything else I can help you with.\\nHuman: Hilton and Mariott hotels are near Times Square\\nAI: Thats good to know!',\n",
       " 'entities': {'Times Square': 'Times Square is a neighborhood in New York City, located near the Statue of Liberty cruise and offering a variety of hotels, including Hilton and Mariott, Broadway shows, tickets, and tours.',\n",
       "  'Hilton': 'Hilton is a hotel near Times Square.',\n",
       "  'Mariott': 'Mariott is a hotel located near Times Square.'}}"
      ]
     },
     "execution_count": 60,
     "metadata": {},
     "output_type": "execute_result"
    }
   ],
   "source": [
    "conversation.memory.load_memory_variables({\"input\": 'what hotels are near Times Sqaure'})"
   ]
  },
  {
   "cell_type": "code",
   "execution_count": 61,
   "id": "9b195833",
   "metadata": {},
   "outputs": [
    {
     "name": "stdout",
     "output_type": "stream",
     "text": [
      "\n",
      "\n",
      "\u001b[1m> Entering new ConversationChain chain...\u001b[0m\n",
      "Prompt after formatting:\n",
      "\u001b[32;1m\u001b[1;3mYou are an assistant to a human, powered by a large language model trained by OpenAI.\n",
      "\n",
      "You are designed to be able to assist with a wide range of tasks, from answering simple questions to providing in-depth explanations and discussions on a wide range of topics. As a language model, you are able to generate human-like text based on the input you receive, allowing you to engage in natural-sounding conversations and provide responses that are coherent and relevant to the topic at hand.\n",
      "\n",
      "You are constantly learning and improving, and your capabilities are constantly evolving. You are able to process and understand large amounts of text, and can use this knowledge to provide accurate and informative responses to a wide range of questions. You have access to some personalized information provided by the human in the Context section below. Additionally, you are able to generate your own text based on the input you receive, allowing you to engage in discussions and provide explanations and descriptions on a wide range of topics.\n",
      "\n",
      "Overall, you are a powerful tool that can help with a wide range of tasks and provide valuable insights and information on a wide range of topics. Whether the human needs help with a specific question or just wants to have a conversation about a particular topic, you are here to assist.\n",
      "\n",
      "Context:\n",
      "{'Times Square': 'Times Square is a neighborhood in New York City, located near the Statue of Liberty cruise and offering a variety of hotels, including Hilton and Mariott, Broadway shows, tickets, and tours.', 'Hilton': 'Hilton is a hotel near Times Square.', 'Mariott': 'Mariott is a hotel located near Times Square.'}\n",
      "\n",
      "Current conversation:\n",
      "Human: I had gone to New York many years ago. There was this broadway show. What was the name? Lion King! It was incredible. We also went to Statue of Liberity cruise. Can you help me get tickets for these 2 events? also maybe a list of hotels near Times Square will be great\n",
      "AI:  Sure, I can help you with that. For the Lion King show, I can provide you with a list of available tickets and prices. For the Statue of Liberty cruise, I can provide you with a list of available tours and prices. For hotels near Times Square, I can provide you with a list of available hotels and prices. Is there anything else I can help you with?\n",
      "Human: Thanks. That will be all. Can you give me the list now?\n",
      "AI:  Absolutely! I can provide you with the list of available tickets, tours, and hotels near Times Square. Please let me know if there is anything else I can help you with.\n",
      "Human: Hilton and Mariott hotels are near Times Square\n",
      "AI: Thats good to know!\n",
      "Last line:\n",
      "Human: Thanks. Can you name some hotels near Times Square?\n",
      "You:\u001b[0m\n",
      "\n",
      "\u001b[1m> Finished chain.\u001b[0m\n"
     ]
    },
    {
     "data": {
      "text/plain": [
       "' Sure, some of the hotels near Times Square include Hilton and Mariott.'"
      ]
     },
     "execution_count": 61,
     "metadata": {},
     "output_type": "execute_result"
    }
   ],
   "source": [
    "conversation.predict(input=\"Thanks. Can you name some hotels near Times Square?\")"
   ]
  },
  {
   "cell_type": "code",
   "execution_count": null,
   "id": "0cf56782",
   "metadata": {},
   "outputs": [],
   "source": []
  }
 ],
 "metadata": {
  "kernelspec": {
   "display_name": "Python 3 (ipykernel)",
   "language": "python",
   "name": "python3"
  },
  "language_info": {
   "codemirror_mode": {
    "name": "ipython",
    "version": 3
   },
   "file_extension": ".py",
   "mimetype": "text/x-python",
   "name": "python",
   "nbconvert_exporter": "python",
   "pygments_lexer": "ipython3",
   "version": "3.9.6"
  }
 },
 "nbformat": 4,
 "nbformat_minor": 5
}
